{
 "cells": [
  {
   "cell_type": "code",
   "execution_count": 1,
   "id": "9d9d616d-ddd3-424a-a5f7-166ff13006c9",
   "metadata": {},
   "outputs": [],
   "source": [
    "class test :\n",
    "    \n",
    "    def __init__(self , a, b ):\n",
    "        self.a = a\n",
    "        self.b = b\n",
    "        "
   ]
  },
  {
   "cell_type": "code",
   "execution_count": 2,
   "id": "b02ebbe7-9452-41d1-b20e-2f7b29c0bc61",
   "metadata": {},
   "outputs": [],
   "source": [
    "t = test(23,34)"
   ]
  },
  {
   "cell_type": "code",
   "execution_count": 3,
   "id": "a0a5985f-19d4-41d6-bb7b-4fb5a7d4dfc8",
   "metadata": {},
   "outputs": [],
   "source": [
    "t.a = 786"
   ]
  },
  {
   "cell_type": "code",
   "execution_count": 4,
   "id": "e0c7fee1-d843-4d85-99eb-b4f944055be9",
   "metadata": {},
   "outputs": [
    {
     "data": {
      "text/plain": [
       "786"
      ]
     },
     "execution_count": 4,
     "metadata": {},
     "output_type": "execute_result"
    }
   ],
   "source": [
    "t.a"
   ]
  },
  {
   "cell_type": "code",
   "execution_count": 8,
   "id": "6595496d-138c-46cf-8b33-93137cecf9cf",
   "metadata": {},
   "outputs": [],
   "source": [
    "class car :\n",
    "    def __init__(self , year ,make,model,speed,):\n",
    "        self.__year = year\n",
    "        self.__make = make\n",
    "        self.__model = model\n",
    "        self.__speed = 0\n",
    "    def set_speed(self,speed) :\n",
    "        self.__speed = 0 if speed < 0 else speed\n",
    "    def get_speed(self) :\n",
    "        return self.__speed"
   ]
  },
  {
   "cell_type": "code",
   "execution_count": 9,
   "id": "99ce2cb1-d72d-4911-bb0a-234162bbeb4f",
   "metadata": {},
   "outputs": [],
   "source": [
    "c = car(2021, \"tyota\" ,\"innova\", 12)"
   ]
  },
  {
   "cell_type": "code",
   "execution_count": 10,
   "id": "b4ef823f-b056-42cb-bedb-5efd1aeb51f4",
   "metadata": {},
   "outputs": [
    {
     "data": {
      "text/plain": [
       "2021"
      ]
     },
     "execution_count": 10,
     "metadata": {},
     "output_type": "execute_result"
    }
   ],
   "source": [
    "c._car__year"
   ]
  },
  {
   "cell_type": "code",
   "execution_count": 14,
   "id": "5eb8222f-032d-4317-ac0b-04adb6061141",
   "metadata": {},
   "outputs": [],
   "source": [
    "c.set_speed(150)"
   ]
  },
  {
   "cell_type": "code",
   "execution_count": 15,
   "id": "6418ab88-3686-4e32-863d-1e7a1f86f88e",
   "metadata": {},
   "outputs": [
    {
     "data": {
      "text/plain": [
       "150"
      ]
     },
     "execution_count": 15,
     "metadata": {},
     "output_type": "execute_result"
    }
   ],
   "source": [
    "c.get_speed()"
   ]
  },
  {
   "cell_type": "code",
   "execution_count": 19,
   "id": "1c06113a-091c-4e34-b081-f149a8026bcc",
   "metadata": {},
   "outputs": [],
   "source": [
    "class bank_account :\n",
    "    def __init__(self , balance) :\n",
    "        self.__balance = balance\n",
    "    \n",
    "    def dposit(self , amount) :\n",
    "        self.__balance = self.__balance + amount\n",
    "        \n",
    "    def withdraw(self , amount) :\n",
    "        if self.__balance >= amount :\n",
    "            self.__balance = self.__balance - amount\n",
    "            return True\n",
    "        else :\n",
    "            return False\n",
    "    def get_balance(self):\n",
    "        return self.__balance\n",
    "            \n",
    "        \n",
    "        "
   ]
  },
  {
   "cell_type": "code",
   "execution_count": 21,
   "id": "94f698eb-1794-441b-9319-d6ff3395fe98",
   "metadata": {},
   "outputs": [],
   "source": [
    "sudh = bank_account(1000)"
   ]
  },
  {
   "cell_type": "code",
   "execution_count": 22,
   "id": "67714611-5cb2-4a69-b589-2af227d54956",
   "metadata": {},
   "outputs": [
    {
     "data": {
      "text/plain": [
       "1000"
      ]
     },
     "execution_count": 22,
     "metadata": {},
     "output_type": "execute_result"
    }
   ],
   "source": [
    "sudh.get_balance()"
   ]
  },
  {
   "cell_type": "code",
   "execution_count": 24,
   "id": "73b877b0-b0f2-4612-bbcb-ee4b9a3b108b",
   "metadata": {},
   "outputs": [],
   "source": [
    "sudh.dposit(5000)"
   ]
  },
  {
   "cell_type": "code",
   "execution_count": 26,
   "id": "5d5b5a59-da11-458f-a1da-30c80eb20fe6",
   "metadata": {},
   "outputs": [
    {
     "data": {
      "text/plain": [
       "6000"
      ]
     },
     "execution_count": 26,
     "metadata": {},
     "output_type": "execute_result"
    }
   ],
   "source": [
    "sudh.get_balance()"
   ]
  },
  {
   "cell_type": "code",
   "execution_count": 27,
   "id": "c18df5e9-d065-40d7-82c8-2f9eb145630a",
   "metadata": {},
   "outputs": [
    {
     "data": {
      "text/plain": [
       "True"
      ]
     },
     "execution_count": 27,
     "metadata": {},
     "output_type": "execute_result"
    }
   ],
   "source": [
    "sudh.withdraw(3000)"
   ]
  },
  {
   "cell_type": "code",
   "execution_count": 28,
   "id": "3dc0a864-d5b3-424d-be1d-28ce1b29fe13",
   "metadata": {},
   "outputs": [
    {
     "data": {
      "text/plain": [
       "3000"
      ]
     },
     "execution_count": 28,
     "metadata": {},
     "output_type": "execute_result"
    }
   ],
   "source": [
    "sudh.get_balance()"
   ]
  },
  {
   "cell_type": "code",
   "execution_count": 30,
   "id": "26c8a481-060d-4dd0-a6db-b951526ec6fa",
   "metadata": {},
   "outputs": [
    {
     "data": {
      "text/plain": [
       "True"
      ]
     },
     "execution_count": 30,
     "metadata": {},
     "output_type": "execute_result"
    }
   ],
   "source": [
    "sudh.withdraw(2000)"
   ]
  },
  {
   "cell_type": "code",
   "execution_count": 31,
   "id": "a3b24a00-697f-4112-b0bf-da9a34509097",
   "metadata": {},
   "outputs": [
    {
     "data": {
      "text/plain": [
       "1000"
      ]
     },
     "execution_count": 31,
     "metadata": {},
     "output_type": "execute_result"
    }
   ],
   "source": [
    "sudh.get_balance()"
   ]
  },
  {
   "cell_type": "code",
   "execution_count": null,
   "id": "35f51d63-293b-4bb7-8b64-0c92ccdc6a37",
   "metadata": {},
   "outputs": [],
   "source": []
  }
 ],
 "metadata": {
  "kernelspec": {
   "display_name": "Python 3 (ipykernel)",
   "language": "python",
   "name": "python3"
  },
  "language_info": {
   "codemirror_mode": {
    "name": "ipython",
    "version": 3
   },
   "file_extension": ".py",
   "mimetype": "text/x-python",
   "name": "python",
   "nbconvert_exporter": "python",
   "pygments_lexer": "ipython3",
   "version": "3.10.8"
  }
 },
 "nbformat": 4,
 "nbformat_minor": 5
}
